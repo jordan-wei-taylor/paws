{
 "cells": [
  {
   "cell_type": "markdown",
   "metadata": {},
   "source": [
    "# Assigning Probabilities by Feature\n",
    "\n",
    "<br>\n",
    "\n",
    "Suppose we have $\\mathbf{x}\\in\\mathbb{R}^m,\\ \\boldsymbol{\\mu}\\in\\mathbb{R}^m,\\text{ and }\\boldsymbol{\\Sigma}\\in\\mathbb{R}^{m,m}$ such that $\\boldsymbol{\\Sigma}^\\text{T}=\\boldsymbol{\\Sigma}$ and the eigen-values of $\\boldsymbol{\\Sigma}$ are all positive.\n",
    "\n",
    "\n",
    "Recall that the negative log pdf of a multivariate normal to be\n",
    "\n",
    "$$\\begin{align*}\n",
    "    - \\log \\text{pdf}(\\mathbf{x}\\ |\\ \\boldsymbol{\\mu},\\ \\boldsymbol{\\Sigma}) &= \\frac{m}{2} \\log 2 \\pi + \\frac{1}{2}\\log |\\boldsymbol{\\Sigma}| + \\frac{1}{2}(\\mathbf{x} - \\boldsymbol{\\mu})^\\text{T}\\boldsymbol{\\Sigma}^{-1}(\\mathbf{x} - \\boldsymbol{\\mu}),\\qquad & \\text{let } \\mathbf{U}\\mathbf{S}\\mathbf{U}^\\text{T} = \\boldsymbol{\\Sigma},\\\\\n",
    "    &= \\frac{m}{2} \\log 2 \\pi + \\frac{1}{2} \\log |\\mathbf{U}\\mathbf{S}\\mathbf{U}^\\text{T}| + \\frac{1}{2}(\\mathbf{x} - \\boldsymbol{\\mu})^\\text{T}\\mathbf{U}\\mathbf{S}^{-1}\\mathbf{U}^\\text{T}(\\mathbf{x} - \\boldsymbol{\\mu}),\\qquad & \\text{recall that } |\\mathbf{AB}| = |\\mathbf{A}| \\cdot |\\mathbf{B}| \\text{ and } |\\mathbf{A}| = 1 \\text{ if } \\mathbf{A} \\text{ is orthonormal},\\\\\n",
    "    &= \\frac{1}{2} \\log |2 \\pi \\mathbf{I}| + \\frac{1}{2} \\log |\\mathbf{S}| + \\frac{1}{2}\\mathbf{v}^\\text{T}\\mathbf{S}^{-1}\\mathbf{v}, & \\text{let } \\mathbf{v} = \\mathbf{U}^\\text{T}(\\mathbf{x} - \\boldsymbol{\\mu}), \\\\\n",
    "    &= \\frac{1}{2} \\log |2 \\pi \\mathbf{S}| + \\frac{1}{2}\\mathbf{v}^\\text{T}\\mathbf{S}^{-1}\\mathbf{v},\\\\\n",
    "    &= \\frac{1}{2} \\sum_j^m \\log 2 \\pi s_{jj} + \\frac{1}{2}\\text{Tr}[\\mathbf{vv}^\\text{T}\\mathbf{S}^{-1}], \\qquad & \\text{let } \\mathbf{K} = \\mathbf{vv}^\\text{T}\\mathbf{S}^{-1},\\\\\n",
    "    &= \\frac{1}{2} \\sum_j^m \\log 2 \\pi s_{jj} + k_{jj},\\\\\n",
    "    &\\therefore \\frac{1}{2} (\\log 2 \\pi s_{jj} + k_{jj}), & \\text{ is the } \\log \\text{ marginalised probability contribution from the } j\\text{-th feature value with respect to all feature values.}\n",
    "\\end{align*}\n",
    "$$"
   ]
  },
  {
   "cell_type": "code",
   "execution_count": 1,
   "metadata": {},
   "outputs": [
    {
     "name": "stdout",
     "output_type": "stream",
     "text": [
      "4.210372454378047 4.210372454378047\n"
     ]
    }
   ],
   "source": [
    "from   scipy.stats import multivariate_normal\n",
    "import numpy as np\n",
    "\n",
    "# set seed for reproducibility\n",
    "np.random.seed(0)\n",
    "\n",
    "# no. of features\n",
    "m              = 3\n",
    "\n",
    "# mean and cov\n",
    "mean           = np.random.normal(size = m)\n",
    "temp           = np.random.normal(size = (m ,m))\n",
    "cov            = temp.T @ temp                                     # ensures SPD\n",
    "\n",
    "# define most likely Gaussian distribution that explains the data\n",
    "dist           = multivariate_normal(mean, cov)\n",
    "\n",
    "# random new sample\n",
    "x              = np.random.normal(size = m)\n",
    "\n",
    "# eigenvalues and eigenvectors (orthonormal)\n",
    "s, U           = np.linalg.eigh(cov)\n",
    "\n",
    "# helper variables\n",
    "v              = U.T @ (x - mean)\n",
    "S_inv          = np.diag(1 / s)\n",
    "\n",
    "# negative log likelihood\n",
    "nll            = np.log(2 * np.pi * s).sum() + v.T @ S_inv @ v\n",
    "nll           /= 2\n",
    "\n",
    "# similar value to scipy's computation\n",
    "print(nll, -dist.logpdf(x))"
   ]
  },
  {
   "cell_type": "code",
   "execution_count": 2,
   "metadata": {},
   "outputs": [
    {
     "name": "stdout",
     "output_type": "stream",
     "text": [
      "[0.61349238 1.50395575 2.09292433]\n"
     ]
    },
    {
     "data": {
      "text/plain": [
       "4.210372454378047"
      ]
     },
     "execution_count": 2,
     "metadata": {},
     "output_type": "execute_result"
    }
   ],
   "source": [
    "# computation for final line in above equation\n",
    "constant       = np.log(2 * np.pi * s) / 2\n",
    "quad           = np.diag(np.outer(v, v) @ S_inv) / 2\n",
    "\n",
    "nll_by_feature = constant + quad\n",
    "\n",
    "print(nll_by_feature)\n",
    "\n",
    "nll_by_feature.sum()"
   ]
  },
  {
   "cell_type": "markdown",
   "metadata": {},
   "source": [
    "The 3rd value is the least likely so lets inspect the difference between the sample and the mean."
   ]
  },
  {
   "cell_type": "code",
   "execution_count": 3,
   "metadata": {},
   "outputs": [
    {
     "data": {
      "text/plain": [
       "array([-1.00301462, -0.27848219, -0.53487475])"
      ]
     },
     "execution_count": 3,
     "metadata": {},
     "output_type": "execute_result"
    }
   ],
   "source": [
    "x - mean"
   ]
  },
  {
   "cell_type": "markdown",
   "metadata": {},
   "source": [
    "We can see that $\\mathbf{x}$ is less than $\\boldsymbol{\\mu}$ and that the $x_1$ value is actually the furthest away from the associated $\\mu_1$ value. Lets inspect $\\boldsymbol{\\Sigma}$."
   ]
  },
  {
   "cell_type": "code",
   "execution_count": 4,
   "metadata": {},
   "outputs": [
    {
     "data": {
      "text/plain": [
       "array([[ 6.09286146,  4.10033934, -1.69091987],\n",
       "       [ 4.10033934,  3.5314304 , -1.60002145],\n",
       "       [-1.69091987, -1.60002145,  3.08063762]])"
      ]
     },
     "execution_count": 4,
     "metadata": {},
     "output_type": "execute_result"
    }
   ],
   "source": [
    "cov"
   ]
  },
  {
   "cell_type": "markdown",
   "metadata": {},
   "source": [
    "Upon examining the values, we can see from $\\boldsymbol{\\Sigma}$ that $(x_1 - \\mu_1)$ and $(x_2 - \\mu_2)$ should have the same sign, whereas $(x_3 - \\mu_3)$ should have the opposite sign."
   ]
  }
 ],
 "metadata": {
  "kernelspec": {
   "display_name": "Python 3.10.4 ('env': venv)",
   "language": "python",
   "name": "python3"
  },
  "language_info": {
   "codemirror_mode": {
    "name": "ipython",
    "version": 3
   },
   "file_extension": ".py",
   "mimetype": "text/x-python",
   "name": "python",
   "nbconvert_exporter": "python",
   "pygments_lexer": "ipython3",
   "version": "3.10.4"
  },
  "orig_nbformat": 4,
  "vscode": {
   "interpreter": {
    "hash": "9bf0b983d9819a0bb2e9ec68ecfad04eab997f7c5700a7234c04b6d77ff2cc58"
   }
  }
 },
 "nbformat": 4,
 "nbformat_minor": 2
}
